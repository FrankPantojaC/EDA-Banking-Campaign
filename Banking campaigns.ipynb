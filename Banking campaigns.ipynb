{
 "cells": [
  {
   "cell_type": "markdown",
   "id": "7b8e4035",
   "metadata": {},
   "source": [
    "# BANKING CAMPAIGN"
   ]
  },
  {
   "cell_type": "markdown",
   "id": "e0c5bddc",
   "metadata": {},
   "source": [
    "# Content\n",
    "<ol>\n",
    "    <li> Context </li>\n",
    "    <li> Objetive </li>\n",
    "    <li> EDA </li>\n",
    "    <li> Conclusions </li>\n",
    "    <li> Recommendations </li>\n",
    "    "
   ]
  },
  {
   "cell_type": "markdown",
   "id": "b687d2bb",
   "metadata": {},
   "source": [
    "# 1. Context\n",
    "Term deposits are a major source of income for a bank. A term deposit is a cash investment held at a financial institution. Your money is invested for an agreed rate of interest over a fixed amount of time, or term. The bank has various outreach plans to sell term deposits to their customers such as email marketing, advertisements, telephonic marketing, and digital marketing.\n",
    "\n",
    "Telephonic marketing campaigns still remain one of the most effective way to reach out to people. However, they require huge investment as large call centers are hired to actually execute these campaigns. Hence, it is crucial to identify the customers most likely to convert beforehand so that they can be specifically targeted via call.\n",
    "\n",
    "The data is related to direct marketing campaigns (phone calls) of a Portuguese banking institution.\n",
    "# 2. Objetive\n",
    "The exploration goal is identify which potencial client profile (lead) is more likely to subscribe to a term deposit (column \"y\") to increase conversion rate and reduce cost per conversion."
   ]
  },
  {
   "cell_type": "markdown",
   "id": "a69b6638",
   "metadata": {},
   "source": [
    "# 3. Exploring Data Analysis - EDA"
   ]
  },
  {
   "cell_type": "markdown",
   "id": "726970df",
   "metadata": {},
   "source": [
    "## Importing packages and loading data"
   ]
  },
  {
   "cell_type": "code",
   "execution_count": 1,
   "id": "98cedbe2",
   "metadata": {},
   "outputs": [],
   "source": [
    "# importing packages of data frames and plots\n",
    "import pandas as pd\n",
    "import numpy as np\n",
    "import matplotlib.pyplot as plt\n",
    "import seaborn as sns\n",
    "import matplotlib as mpl\n",
    "%matplotlib inline"
   ]
  },
  {
   "cell_type": "code",
   "execution_count": 2,
   "id": "388bead3",
   "metadata": {},
   "outputs": [],
   "source": [
    "# loading data\n",
    "df=pd.read_csv('train.csv')"
   ]
  },
  {
   "cell_type": "markdown",
   "id": "f3c2a4fe",
   "metadata": {},
   "source": [
    "## Preview"
   ]
  },
  {
   "cell_type": "markdown",
   "id": "b63245ca",
   "metadata": {},
   "source": [
    "<ul>\n",
    "    <li> Data has 17 columns and 45211 records and has no nulls or missing data\n",
    "    <li> Overall, data has the right type. However, I will include new columns to make processing easier\n",
    "    <li> Data are organized in 2 groups and 4 subgroups: \n",
    "<ul>\n",
    "    <li> Lead profile\n",
    "        <ul>\n",
    "            <li> Personal information (4 columns)\n",
    "            <li> Financial Behavior (4 columns)\n",
    "        </ul>\n",
    "    <li> Campaign Execution Data\n",
    "        <ul>\n",
    "            <li> Last campaign (5 columns)\n",
    "            <li> Previous campaign (3 columns)\n",
    "        </ul>"
   ]
  },
  {
   "cell_type": "code",
   "execution_count": 3,
   "id": "d27a7d39",
   "metadata": {},
   "outputs": [
    {
     "data": {
      "text/plain": [
       "(45211, 17)"
      ]
     },
     "execution_count": 3,
     "metadata": {},
     "output_type": "execute_result"
    }
   ],
   "source": [
    "# identifying number of columns and rows\n",
    "df.shape"
   ]
  },
  {
   "cell_type": "code",
   "execution_count": 4,
   "id": "b6e9d374",
   "metadata": {},
   "outputs": [
    {
     "name": "stdout",
     "output_type": "stream",
     "text": [
      "<class 'pandas.core.frame.DataFrame'>\n",
      "RangeIndex: 45211 entries, 0 to 45210\n",
      "Data columns (total 17 columns):\n",
      " #   Column     Non-Null Count  Dtype \n",
      "---  ------     --------------  ----- \n",
      " 0   age        45211 non-null  int64 \n",
      " 1   job        45211 non-null  object\n",
      " 2   marital    45211 non-null  object\n",
      " 3   education  45211 non-null  object\n",
      " 4   default    45211 non-null  object\n",
      " 5   balance    45211 non-null  int64 \n",
      " 6   housing    45211 non-null  object\n",
      " 7   loan       45211 non-null  object\n",
      " 8   contact    45211 non-null  object\n",
      " 9   day        45211 non-null  int64 \n",
      " 10  month      45211 non-null  object\n",
      " 11  duration   45211 non-null  int64 \n",
      " 12  campaign   45211 non-null  int64 \n",
      " 13  pdays      45211 non-null  int64 \n",
      " 14  previous   45211 non-null  int64 \n",
      " 15  poutcome   45211 non-null  object\n",
      " 16  y          45211 non-null  object\n",
      "dtypes: int64(7), object(10)\n",
      "memory usage: 5.9+ MB\n"
     ]
    }
   ],
   "source": [
    "# identifying data type\n",
    "df.info()"
   ]
  },
  {
   "cell_type": "code",
   "execution_count": 5,
   "id": "1a81a662",
   "metadata": {},
   "outputs": [
    {
     "data": {
      "text/plain": [
       "age          0\n",
       "job          0\n",
       "marital      0\n",
       "education    0\n",
       "default      0\n",
       "balance      0\n",
       "housing      0\n",
       "loan         0\n",
       "contact      0\n",
       "day          0\n",
       "month        0\n",
       "duration     0\n",
       "campaign     0\n",
       "pdays        0\n",
       "previous     0\n",
       "poutcome     0\n",
       "y            0\n",
       "dtype: int64"
      ]
     },
     "execution_count": 5,
     "metadata": {},
     "output_type": "execute_result"
    }
   ],
   "source": [
    "# identifying numbers of nulls per column\n",
    "df.isna().sum()"
   ]
  },
  {
   "cell_type": "code",
   "execution_count": 6,
   "id": "f6f2dfe9",
   "metadata": {},
   "outputs": [
    {
     "data": {
      "text/html": [
       "<div>\n",
       "<style scoped>\n",
       "    .dataframe tbody tr th:only-of-type {\n",
       "        vertical-align: middle;\n",
       "    }\n",
       "\n",
       "    .dataframe tbody tr th {\n",
       "        vertical-align: top;\n",
       "    }\n",
       "\n",
       "    .dataframe thead th {\n",
       "        text-align: right;\n",
       "    }\n",
       "</style>\n",
       "<table border=\"1\" class=\"dataframe\">\n",
       "  <thead>\n",
       "    <tr style=\"text-align: right;\">\n",
       "      <th></th>\n",
       "      <th>age</th>\n",
       "      <th>job</th>\n",
       "      <th>marital</th>\n",
       "      <th>education</th>\n",
       "      <th>default</th>\n",
       "      <th>balance</th>\n",
       "      <th>housing</th>\n",
       "      <th>loan</th>\n",
       "      <th>contact</th>\n",
       "      <th>day</th>\n",
       "      <th>month</th>\n",
       "      <th>duration</th>\n",
       "      <th>campaign</th>\n",
       "      <th>pdays</th>\n",
       "      <th>previous</th>\n",
       "      <th>poutcome</th>\n",
       "      <th>y</th>\n",
       "    </tr>\n",
       "  </thead>\n",
       "  <tbody>\n",
       "    <tr>\n",
       "      <th>0</th>\n",
       "      <td>58</td>\n",
       "      <td>management</td>\n",
       "      <td>married</td>\n",
       "      <td>tertiary</td>\n",
       "      <td>no</td>\n",
       "      <td>2143</td>\n",
       "      <td>yes</td>\n",
       "      <td>no</td>\n",
       "      <td>unknown</td>\n",
       "      <td>5</td>\n",
       "      <td>may</td>\n",
       "      <td>261</td>\n",
       "      <td>1</td>\n",
       "      <td>-1</td>\n",
       "      <td>0</td>\n",
       "      <td>unknown</td>\n",
       "      <td>no</td>\n",
       "    </tr>\n",
       "    <tr>\n",
       "      <th>1</th>\n",
       "      <td>44</td>\n",
       "      <td>technician</td>\n",
       "      <td>single</td>\n",
       "      <td>secondary</td>\n",
       "      <td>no</td>\n",
       "      <td>29</td>\n",
       "      <td>yes</td>\n",
       "      <td>no</td>\n",
       "      <td>unknown</td>\n",
       "      <td>5</td>\n",
       "      <td>may</td>\n",
       "      <td>151</td>\n",
       "      <td>1</td>\n",
       "      <td>-1</td>\n",
       "      <td>0</td>\n",
       "      <td>unknown</td>\n",
       "      <td>no</td>\n",
       "    </tr>\n",
       "    <tr>\n",
       "      <th>2</th>\n",
       "      <td>33</td>\n",
       "      <td>entrepreneur</td>\n",
       "      <td>married</td>\n",
       "      <td>secondary</td>\n",
       "      <td>no</td>\n",
       "      <td>2</td>\n",
       "      <td>yes</td>\n",
       "      <td>yes</td>\n",
       "      <td>unknown</td>\n",
       "      <td>5</td>\n",
       "      <td>may</td>\n",
       "      <td>76</td>\n",
       "      <td>1</td>\n",
       "      <td>-1</td>\n",
       "      <td>0</td>\n",
       "      <td>unknown</td>\n",
       "      <td>no</td>\n",
       "    </tr>\n",
       "    <tr>\n",
       "      <th>3</th>\n",
       "      <td>47</td>\n",
       "      <td>blue-collar</td>\n",
       "      <td>married</td>\n",
       "      <td>unknown</td>\n",
       "      <td>no</td>\n",
       "      <td>1506</td>\n",
       "      <td>yes</td>\n",
       "      <td>no</td>\n",
       "      <td>unknown</td>\n",
       "      <td>5</td>\n",
       "      <td>may</td>\n",
       "      <td>92</td>\n",
       "      <td>1</td>\n",
       "      <td>-1</td>\n",
       "      <td>0</td>\n",
       "      <td>unknown</td>\n",
       "      <td>no</td>\n",
       "    </tr>\n",
       "    <tr>\n",
       "      <th>4</th>\n",
       "      <td>33</td>\n",
       "      <td>unknown</td>\n",
       "      <td>single</td>\n",
       "      <td>unknown</td>\n",
       "      <td>no</td>\n",
       "      <td>1</td>\n",
       "      <td>no</td>\n",
       "      <td>no</td>\n",
       "      <td>unknown</td>\n",
       "      <td>5</td>\n",
       "      <td>may</td>\n",
       "      <td>198</td>\n",
       "      <td>1</td>\n",
       "      <td>-1</td>\n",
       "      <td>0</td>\n",
       "      <td>unknown</td>\n",
       "      <td>no</td>\n",
       "    </tr>\n",
       "  </tbody>\n",
       "</table>\n",
       "</div>"
      ],
      "text/plain": [
       "   age           job  marital  education default  balance housing loan  \\\n",
       "0   58    management  married   tertiary      no     2143     yes   no   \n",
       "1   44    technician   single  secondary      no       29     yes   no   \n",
       "2   33  entrepreneur  married  secondary      no        2     yes  yes   \n",
       "3   47   blue-collar  married    unknown      no     1506     yes   no   \n",
       "4   33       unknown   single    unknown      no        1      no   no   \n",
       "\n",
       "   contact  day month  duration  campaign  pdays  previous poutcome   y  \n",
       "0  unknown    5   may       261         1     -1         0  unknown  no  \n",
       "1  unknown    5   may       151         1     -1         0  unknown  no  \n",
       "2  unknown    5   may        76         1     -1         0  unknown  no  \n",
       "3  unknown    5   may        92         1     -1         0  unknown  no  \n",
       "4  unknown    5   may       198         1     -1         0  unknown  no  "
      ]
     },
     "execution_count": 6,
     "metadata": {},
     "output_type": "execute_result"
    }
   ],
   "source": [
    "# exploring columns\n",
    "df.head()"
   ]
  },
  {
   "cell_type": "code",
   "execution_count": 7,
   "id": "2b419972",
   "metadata": {},
   "outputs": [
    {
     "data": {
      "text/html": [
       "<div>\n",
       "<style scoped>\n",
       "    .dataframe tbody tr th:only-of-type {\n",
       "        vertical-align: middle;\n",
       "    }\n",
       "\n",
       "    .dataframe tbody tr th {\n",
       "        vertical-align: top;\n",
       "    }\n",
       "\n",
       "    .dataframe thead th {\n",
       "        text-align: right;\n",
       "    }\n",
       "</style>\n",
       "<table border=\"1\" class=\"dataframe\">\n",
       "  <thead>\n",
       "    <tr style=\"text-align: right;\">\n",
       "      <th></th>\n",
       "      <th>age</th>\n",
       "      <th>balance</th>\n",
       "      <th>day</th>\n",
       "      <th>duration</th>\n",
       "      <th>campaign</th>\n",
       "      <th>pdays</th>\n",
       "      <th>previous</th>\n",
       "    </tr>\n",
       "  </thead>\n",
       "  <tbody>\n",
       "    <tr>\n",
       "      <th>count</th>\n",
       "      <td>45211.000000</td>\n",
       "      <td>45211.000000</td>\n",
       "      <td>45211.000000</td>\n",
       "      <td>45211.000000</td>\n",
       "      <td>45211.000000</td>\n",
       "      <td>45211.000000</td>\n",
       "      <td>45211.000000</td>\n",
       "    </tr>\n",
       "    <tr>\n",
       "      <th>mean</th>\n",
       "      <td>40.936210</td>\n",
       "      <td>1362.272058</td>\n",
       "      <td>15.806419</td>\n",
       "      <td>258.163080</td>\n",
       "      <td>2.763841</td>\n",
       "      <td>40.197828</td>\n",
       "      <td>0.580323</td>\n",
       "    </tr>\n",
       "    <tr>\n",
       "      <th>std</th>\n",
       "      <td>10.618762</td>\n",
       "      <td>3044.765829</td>\n",
       "      <td>8.322476</td>\n",
       "      <td>257.527812</td>\n",
       "      <td>3.098021</td>\n",
       "      <td>100.128746</td>\n",
       "      <td>2.303441</td>\n",
       "    </tr>\n",
       "    <tr>\n",
       "      <th>min</th>\n",
       "      <td>18.000000</td>\n",
       "      <td>-8019.000000</td>\n",
       "      <td>1.000000</td>\n",
       "      <td>0.000000</td>\n",
       "      <td>1.000000</td>\n",
       "      <td>-1.000000</td>\n",
       "      <td>0.000000</td>\n",
       "    </tr>\n",
       "    <tr>\n",
       "      <th>25%</th>\n",
       "      <td>33.000000</td>\n",
       "      <td>72.000000</td>\n",
       "      <td>8.000000</td>\n",
       "      <td>103.000000</td>\n",
       "      <td>1.000000</td>\n",
       "      <td>-1.000000</td>\n",
       "      <td>0.000000</td>\n",
       "    </tr>\n",
       "    <tr>\n",
       "      <th>50%</th>\n",
       "      <td>39.000000</td>\n",
       "      <td>448.000000</td>\n",
       "      <td>16.000000</td>\n",
       "      <td>180.000000</td>\n",
       "      <td>2.000000</td>\n",
       "      <td>-1.000000</td>\n",
       "      <td>0.000000</td>\n",
       "    </tr>\n",
       "    <tr>\n",
       "      <th>75%</th>\n",
       "      <td>48.000000</td>\n",
       "      <td>1428.000000</td>\n",
       "      <td>21.000000</td>\n",
       "      <td>319.000000</td>\n",
       "      <td>3.000000</td>\n",
       "      <td>-1.000000</td>\n",
       "      <td>0.000000</td>\n",
       "    </tr>\n",
       "    <tr>\n",
       "      <th>max</th>\n",
       "      <td>95.000000</td>\n",
       "      <td>102127.000000</td>\n",
       "      <td>31.000000</td>\n",
       "      <td>4918.000000</td>\n",
       "      <td>63.000000</td>\n",
       "      <td>871.000000</td>\n",
       "      <td>275.000000</td>\n",
       "    </tr>\n",
       "  </tbody>\n",
       "</table>\n",
       "</div>"
      ],
      "text/plain": [
       "                age        balance           day      duration      campaign  \\\n",
       "count  45211.000000   45211.000000  45211.000000  45211.000000  45211.000000   \n",
       "mean      40.936210    1362.272058     15.806419    258.163080      2.763841   \n",
       "std       10.618762    3044.765829      8.322476    257.527812      3.098021   \n",
       "min       18.000000   -8019.000000      1.000000      0.000000      1.000000   \n",
       "25%       33.000000      72.000000      8.000000    103.000000      1.000000   \n",
       "50%       39.000000     448.000000     16.000000    180.000000      2.000000   \n",
       "75%       48.000000    1428.000000     21.000000    319.000000      3.000000   \n",
       "max       95.000000  102127.000000     31.000000   4918.000000     63.000000   \n",
       "\n",
       "              pdays      previous  \n",
       "count  45211.000000  45211.000000  \n",
       "mean      40.197828      0.580323  \n",
       "std      100.128746      2.303441  \n",
       "min       -1.000000      0.000000  \n",
       "25%       -1.000000      0.000000  \n",
       "50%       -1.000000      0.000000  \n",
       "75%       -1.000000      0.000000  \n",
       "max      871.000000    275.000000  "
      ]
     },
     "execution_count": 7,
     "metadata": {},
     "output_type": "execute_result"
    }
   ],
   "source": [
    "# exploring statistics of numerical data\n",
    "df.describe()"
   ]
  },
  {
   "cell_type": "code",
   "execution_count": 8,
   "id": "bbcb8e1a",
   "metadata": {},
   "outputs": [
    {
     "data": {
      "text/html": [
       "<div>\n",
       "<style scoped>\n",
       "    .dataframe tbody tr th:only-of-type {\n",
       "        vertical-align: middle;\n",
       "    }\n",
       "\n",
       "    .dataframe tbody tr th {\n",
       "        vertical-align: top;\n",
       "    }\n",
       "\n",
       "    .dataframe thead th {\n",
       "        text-align: right;\n",
       "    }\n",
       "</style>\n",
       "<table border=\"1\" class=\"dataframe\">\n",
       "  <thead>\n",
       "    <tr style=\"text-align: right;\">\n",
       "      <th></th>\n",
       "      <th>job</th>\n",
       "      <th>marital</th>\n",
       "      <th>education</th>\n",
       "      <th>default</th>\n",
       "      <th>housing</th>\n",
       "      <th>loan</th>\n",
       "      <th>contact</th>\n",
       "      <th>month</th>\n",
       "      <th>poutcome</th>\n",
       "      <th>y</th>\n",
       "    </tr>\n",
       "  </thead>\n",
       "  <tbody>\n",
       "    <tr>\n",
       "      <th>count</th>\n",
       "      <td>45211</td>\n",
       "      <td>45211</td>\n",
       "      <td>45211</td>\n",
       "      <td>45211</td>\n",
       "      <td>45211</td>\n",
       "      <td>45211</td>\n",
       "      <td>45211</td>\n",
       "      <td>45211</td>\n",
       "      <td>45211</td>\n",
       "      <td>45211</td>\n",
       "    </tr>\n",
       "    <tr>\n",
       "      <th>unique</th>\n",
       "      <td>12</td>\n",
       "      <td>3</td>\n",
       "      <td>4</td>\n",
       "      <td>2</td>\n",
       "      <td>2</td>\n",
       "      <td>2</td>\n",
       "      <td>3</td>\n",
       "      <td>12</td>\n",
       "      <td>4</td>\n",
       "      <td>2</td>\n",
       "    </tr>\n",
       "    <tr>\n",
       "      <th>top</th>\n",
       "      <td>blue-collar</td>\n",
       "      <td>married</td>\n",
       "      <td>secondary</td>\n",
       "      <td>no</td>\n",
       "      <td>yes</td>\n",
       "      <td>no</td>\n",
       "      <td>cellular</td>\n",
       "      <td>may</td>\n",
       "      <td>unknown</td>\n",
       "      <td>no</td>\n",
       "    </tr>\n",
       "    <tr>\n",
       "      <th>freq</th>\n",
       "      <td>9732</td>\n",
       "      <td>27214</td>\n",
       "      <td>23202</td>\n",
       "      <td>44396</td>\n",
       "      <td>25130</td>\n",
       "      <td>37967</td>\n",
       "      <td>29285</td>\n",
       "      <td>13766</td>\n",
       "      <td>36959</td>\n",
       "      <td>39922</td>\n",
       "    </tr>\n",
       "  </tbody>\n",
       "</table>\n",
       "</div>"
      ],
      "text/plain": [
       "                job  marital  education default housing   loan   contact  \\\n",
       "count         45211    45211      45211   45211   45211  45211     45211   \n",
       "unique           12        3          4       2       2      2         3   \n",
       "top     blue-collar  married  secondary      no     yes     no  cellular   \n",
       "freq           9732    27214      23202   44396   25130  37967     29285   \n",
       "\n",
       "        month poutcome      y  \n",
       "count   45211    45211  45211  \n",
       "unique     12        4      2  \n",
       "top       may  unknown     no  \n",
       "freq    13766    36959  39922  "
      ]
     },
     "execution_count": 8,
     "metadata": {},
     "output_type": "execute_result"
    }
   ],
   "source": [
    "# expling statistics of categorical data\n",
    "df.describe(include=['O'])"
   ]
  },
  {
   "cell_type": "markdown",
   "id": "1a53fd92",
   "metadata": {},
   "source": [
    "## Exploring columns\n",
    "\n",
    "### Campaing Results: column \"Y\"\n",
    "\n",
    "<ul>\n",
    "    <li> Column \"Y\" show the outcome of the campaign: conversion\n",
    "    <li> If the lead has subscribed to the term deposit is \"yes\" or has rejected it is \"no\" </li> \n",
    "    <li> Data has 45211 leads </li> \n",
    "    <li> Conversion was 11.7% </li> \n",
    "    <li> I'm creating a new column \"conversion\" to simplify coding when calculating lead conversions </li> "
   ]
  },
  {
   "cell_type": "code",
   "execution_count": 9,
   "id": "5ffe1fc7",
   "metadata": {},
   "outputs": [
    {
     "data": {
      "image/png": "[encoded data removed]",
      "text/plain": [
       "<Figure size 360x360 with 1 Axes>"
      ]
     },
     "metadata": {
      "needs_background": "light"
     },
     "output_type": "display_data"
    }
   ],
   "source": [
    "# Count conversion\n",
    "mpl.rcParams['figure.figsize'] = (5,5)\n",
    "fig=sns.countplot(x='y', data=df, order=['yes', 'no'])\n",
    "fig.set(title='Count conversions')\n",
    "plt.show()"
   ]
  },
  {
   "cell_type": "code",
   "execution_count": 10,
   "id": "831246ad",
   "metadata": {},
   "outputs": [
    {
     "data": {
      "text/plain": [
       "no     0.883015\n",
       "yes    0.116985\n",
       "Name: y, dtype: float64"
      ]
     },
     "execution_count": 10,
     "metadata": {},
     "output_type": "execute_result"
    }
   ],
   "source": [
    "# Calculating overall conversion\n",
    "df['y'].value_counts(normalize=True)"
   ]
  },
  {
   "cell_type": "code",
   "execution_count": 11,
   "id": "46f3ab1a",
   "metadata": {},
   "outputs": [],
   "source": [
    "# Creating a new column \"conversion\" to simplify coding when calculating lead conversions\n",
    "for index, row in df.iterrows() :\n",
    "    if df.loc[index, 'y'] == 'yes' :\n",
    "        df.loc[index, 'conversion'] = 1\n",
    "    else :\n",
    "        df.loc[index, 'conversion'] = 0"
   ]
  },
  {
   "cell_type": "markdown",
   "id": "4f248d85",
   "metadata": {},
   "source": [
    "### Exploring Conversion by Personal Information\n",
    "<ul>\n",
    "    <li>Personal information has 4 columns:\n",
    "        <ul>\n",
    "            <li> Job: Job, ocupation or employment status </li>\n",
    "            <li> Marital: Marital status </li>\n",
    "            <li> Education: Higher level of education reached </li>\n",
    "            <li> Age </li>\n",
    "        </ul>\n",
    "    <li> I'm creating a function to make easier the column exploration, show conversion bar charts in descending order and count bar charts with a custom size"
   ]
  },
  {
   "cell_type": "code",
   "execution_count": 12,
   "id": "18cd6c2d",
   "metadata": {},
   "outputs": [],
   "source": [
    "# Creating a function to show conversion bar charts in descending order and count bar charts with a custom size\n",
    "def exploring_chart(column,dataframe,width,height):\n",
    "    fig, axes = plt.subplots(1, 2, figsize=(width,height))\n",
    "    conversion_list = round(dataframe.groupby(column).conversion.mean().sort_values(ascending=False),2)\n",
    "    conversion_df = conversion_list.reset_index()\n",
    "    sns.barplot(x='conversion', y=column, data=conversion_df, order=conversion_list.index ,ax=axes[0])\n",
    "    sns.countplot(y=column, data=dataframe, order=conversion_list.index, ax=axes[1])\n",
    "    plt.show()\n",
    "    print(conversion_df)"
   ]
  },
  {
   "cell_type": "markdown",
   "id": "79fb811a",
   "metadata": {},
   "source": [
    "#### Job\n",
    "<ul>\n",
    "    <li> There are 11 types of occupation including retired, student, self-employed, and unemployed </li> \n",
    "    <li> Null data was filled with \"unknown\" </li>\n",
    "    <li> Most common jobs are blue-collarm, management and technician </li>\n",
    "    <li> Students and retired have higher conversions at 29% and 23% respectively </li>\n",
    "    <li> The issues is that the customer base has a small number of students and retirees compared to blue-collars, managements and technicians  </li>"
   ]
  },
  {
   "cell_type": "code",
   "execution_count": 13,
   "id": "67fc367a",
   "metadata": {},
   "outputs": [
    {
     "data": {
      "image/png": "[encoded data removed]",
      "text/plain": [
       "<Figure size 1080x360 with 2 Axes>"
      ]
     },
     "metadata": {
      "needs_background": "light"
     },
     "output_type": "display_data"
    },
    {
     "name": "stdout",
     "output_type": "stream",
     "text": [
      "              job  conversion\n",
      "0         student        0.29\n",
      "1         retired        0.23\n",
      "2      unemployed        0.16\n",
      "3      management        0.14\n",
      "4          admin.        0.12\n",
      "5   self-employed        0.12\n",
      "6         unknown        0.12\n",
      "7      technician        0.11\n",
      "8        services        0.09\n",
      "9       housemaid        0.09\n",
      "10   entrepreneur        0.08\n",
      "11    blue-collar        0.07\n"
     ]
    }
   ],
   "source": [
    "# Exploring job column\n",
    "exploring_chart('job',df,15,5)"
   ]
  },
  {
   "cell_type": "markdown",
   "id": "17216f06",
   "metadata": {},
   "source": [
    "####  Marital\n",
    "<ul>\n",
    "    <li> There are 3 marital status: married, single, and divorced </li> \n",
    "    <li> Married is the most common status, followed by single and then divorced. Note: \"divorced\" means divorced or widowed</li>\n",
    "    <li> Singles have the highest conversion at 15%, and married have the lowest at 10%</li>"
   ]
  },
  {
   "cell_type": "code",
   "execution_count": 14,
   "id": "8429adaf",
   "metadata": {},
   "outputs": [
    {
     "data": {
      "image/png": "[encoded data removed]",
      "text/plain": [
       "<Figure size 1080x216 with 2 Axes>"
      ]
     },
     "metadata": {
      "needs_background": "light"
     },
     "output_type": "display_data"
    },
    {
     "name": "stdout",
     "output_type": "stream",
     "text": [
      "    marital  conversion\n",
      "0    single        0.15\n",
      "1  divorced        0.12\n",
      "2   married        0.10\n"
     ]
    }
   ],
   "source": [
    "# exploring marital column\n",
    "exploring_chart('marital',df,15,3)"
   ]
  },
  {
   "cell_type": "markdown",
   "id": "7dc14c6d",
   "metadata": {},
   "source": [
    "####  Education\n",
    "<ul>\n",
    "    <li> There are 3 education level reached: primary, secondary, and tertiary </li>\n",
    "    <li> Null data was filled with \"unknown\" </li>\n",
    "    <li> Secondary is the most common education reached, followed by terciary and then primary </li>\n",
    "    <li> Leads with terceary education have the highest conversion at 15% and leads with primary education have the smallest conversion at 9% </li>"
   ]
  },
  {
   "cell_type": "code",
   "execution_count": 15,
   "id": "b702a55d",
   "metadata": {},
   "outputs": [
    {
     "data": {
      "image/png": "[encoded data removed]",
      "text/plain": [
       "<Figure size 1080x288 with 2 Axes>"
      ]
     },
     "metadata": {
      "needs_background": "light"
     },
     "output_type": "display_data"
    },
    {
     "name": "stdout",
     "output_type": "stream",
     "text": [
      "   education  conversion\n",
      "0   tertiary        0.15\n",
      "1    unknown        0.14\n",
      "2  secondary        0.11\n",
      "3    primary        0.09\n"
     ]
    }
   ],
   "source": [
    "# exploring education column\n",
    "exploring_chart('education',df,15,4)"
   ]
  },
  {
   "cell_type": "markdown",
   "id": "ce029a21",
   "metadata": {},
   "source": [
    "####  Age\n",
    "<ul>\n",
    "    <li> Age columns has a wide range starting at 18 and going up to 95 </li>\n",
    "    <li> Segmentation by age has a huge impact in conversions </li>\n",
    "    <li> I'm creating a new column \"age range\" to easily segment leads by age </li>"
   ]
  },
  {
   "cell_type": "code",
   "execution_count": 16,
   "id": "e04efb57",
   "metadata": {},
   "outputs": [
    {
     "data": {
      "image/png": "[encoded data removed]",
      "text/plain": [
       "<Figure size 1152x360 with 1 Axes>"
      ]
     },
     "metadata": {
      "needs_background": "light"
     },
     "output_type": "display_data"
    }
   ],
   "source": [
    "# Exploring conversion by age\n",
    "mpl.rcParams['figure.figsize'] = (16,5)\n",
    "df.groupby('age').conversion.mean().plot.bar(ylabel='Conversion', title='Conversion by age')\n",
    "plt.show()"
   ]
  },
  {
   "cell_type": "code",
   "execution_count": 17,
   "id": "95ebf74f",
   "metadata": {},
   "outputs": [
    {
     "data": {
      "image/png": "[encoded data removed]",
      "text/plain": [
       "<Figure size 1152x360 with 1 Axes>"
      ]
     },
     "metadata": {
      "needs_background": "light"
     },
     "output_type": "display_data"
    }
   ],
   "source": [
    "# Exploring age column \n",
    "mpl.rcParams['figure.figsize'] = (16,5)\n",
    "df.groupby('age')['y'].count().plot.bar(ylabel='Count', title='Number of leads by age')\n",
    "plt.show()"
   ]
  },
  {
   "cell_type": "code",
   "execution_count": 18,
   "id": "54f6d730",
   "metadata": {},
   "outputs": [],
   "source": [
    "# Creating a new column \"age range\" to segment leads easily by age\n",
    "for index, row in df.iterrows() :\n",
    "    if df.loc[index, 'age'] <= 25 :\n",
    "        df.loc[index, 'age range'] = '18 to 25'\n",
    "    elif df.loc[index, 'age'] <= 30 :\n",
    "        df.loc[index, 'age range'] = '26 to 30'\n",
    "    elif df.loc[index, 'age'] <= 40 :\n",
    "        df.loc[index, 'age range'] = '31 to 40'\n",
    "    elif df.loc[index, 'age'] <= 60 :\n",
    "        df.loc[index, 'age range'] = '41 to 60'\n",
    "    else :\n",
    "        df.loc[index, 'age range'] = '> 60'"
   ]
  },
  {
   "cell_type": "markdown",
   "id": "a5c5e1b9",
   "metadata": {},
   "source": [
    "####  Age range\n",
    "<ul>\n",
    "    <li> Leads over 60 years old have conversion greater than 40%. However this customer base is pretty small  </li>\n",
    "    <li> Young adults between 18 to 25 have conversion at 24% </li>\n",
    "    <li> Median ages between 26 and 60 years have a conversion lower than 14%. However, they are the most common ages. This age range will need deeper segmentation to increase conversion </li>"
   ]
  },
  {
   "cell_type": "code",
   "execution_count": 19,
   "id": "e45cd1fa",
   "metadata": {},
   "outputs": [
    {
     "data": {
      "image/png": "[encoded data removed]",
      "text/plain": [
       "<Figure size 1080x360 with 2 Axes>"
      ]
     },
     "metadata": {
      "needs_background": "light"
     },
     "output_type": "display_data"
    },
    {
     "name": "stdout",
     "output_type": "stream",
     "text": [
      "  age range  conversion\n",
      "0      > 60        0.42\n",
      "1  18 to 25        0.24\n",
      "2  26 to 30        0.14\n",
      "3  31 to 40        0.10\n",
      "4  41 to 60        0.09\n"
     ]
    }
   ],
   "source": [
    "# Exploring age range\n",
    "exploring_chart('age range',df,15,5)"
   ]
  },
  {
   "cell_type": "markdown",
   "id": "bd2fb596",
   "metadata": {},
   "source": [
    "###  <span style=\"color:red\"> Insight N° 1: Segmentation by age has a strong impact on conversions, and will be the first step in the targeting process. Leads over 60 years old will be our first target with conversion over 40%. </span>"
   ]
  },
  {
   "cell_type": "markdown",
   "id": "14f2f703",
   "metadata": {},
   "source": [
    "### Exploring Conversion by Financial Behavior\n",
    "<ul>\n",
    "    <li> Financial behavior has 4 columns: </li>\n",
    "    <ul>\n",
    "        <li> Housing: Does the lead have a mortage loan? Yes/No </li>\n",
    "        <li> Loan: Does the lead have a personal loan? Yes/No </li>\n",
    "        <li> Default: Does the lead have a credit in default? Yes/No </li>\n",
    "        <li> Balance: Average yearly balance, in euros </li> </ul>\n",
    "    <li> Overall, leads without any loans are twice as likely to convert as those with loans </li>\n",
    "        "
   ]
  },
  {
   "cell_type": "markdown",
   "id": "bea89525",
   "metadata": {},
   "source": [
    "####  Housing\n",
    "<ul>\n",
    "    <li> Proportion between leads who have a mortage or not is quite similar </li>\n",
    "    <li> Leads without housing loans have double conversion (17%) than leads with debts (8%) </li>"
   ]
  },
  {
   "cell_type": "code",
   "execution_count": 20,
   "id": "bc01c5d8",
   "metadata": {},
   "outputs": [
    {
     "data": {
      "image/png": "[encoded data removed]",
      "text/plain": [
       "<Figure size 1080x144 with 2 Axes>"
      ]
     },
     "metadata": {
      "needs_background": "light"
     },
     "output_type": "display_data"
    },
    {
     "name": "stdout",
     "output_type": "stream",
     "text": [
      "  housing  conversion\n",
      "0      no        0.17\n",
      "1     yes        0.08\n"
     ]
    }
   ],
   "source": [
    "# Exploring housing column\n",
    "exploring_chart('housing',df, 15,2)"
   ]
  },
  {
   "cell_type": "markdown",
   "id": "51b0daf6",
   "metadata": {},
   "source": [
    "####  Loan\n",
    "<ul>\n",
    "    <li> Most of leads don't have a personal loan </li>\n",
    "    <li> Leads without personal loans have almost a double conversion (13%) than leads with debts (7%) </li>"
   ]
  },
  {
   "cell_type": "code",
   "execution_count": 21,
   "id": "e10587ce",
   "metadata": {},
   "outputs": [
    {
     "data": {
      "image/png": "[encoded data removed]",
      "text/plain": [
       "<Figure size 1080x144 with 2 Axes>"
      ]
     },
     "metadata": {
      "needs_background": "light"
     },
     "output_type": "display_data"
    },
    {
     "name": "stdout",
     "output_type": "stream",
     "text": [
      "  loan  conversion\n",
      "0   no        0.13\n",
      "1  yes        0.07\n"
     ]
    }
   ],
   "source": [
    "# Exploring loan column\n",
    "exploring_chart('loan',df, 15,2)"
   ]
  },
  {
   "cell_type": "markdown",
   "id": "f6a9e12c",
   "metadata": {},
   "source": [
    "####  Default\n",
    "<ul>\n",
    "    <li> Most of leads don't have a credit in default </li>\n",
    "    <li> Leads without credit in default have double conversion (12%) than leads with credits in default (6%) </li>"
   ]
  },
  {
   "cell_type": "code",
   "execution_count": 22,
   "id": "da6f10c3",
   "metadata": {},
   "outputs": [
    {
     "data": {
      "image/png": "[encoded data removed]",
      "text/plain": [
       "<Figure size 1080x144 with 2 Axes>"
      ]
     },
     "metadata": {
      "needs_background": "light"
     },
     "output_type": "display_data"
    },
    {
     "name": "stdout",
     "output_type": "stream",
     "text": [
      "  default  conversion\n",
      "0      no        0.12\n",
      "1     yes        0.06\n"
     ]
    }
   ],
   "source": [
    "# Exploring default column\n",
    "exploring_chart('default',df,15,2)"
   ]
  },
  {
   "cell_type": "markdown",
   "id": "66d200d9",
   "metadata": {},
   "source": [
    "####  Balance\n",
    "<ul>\n",
    "    <li> Balance columns has a wide range starting at negative balance and going up to 100K </li>\n",
    "    <li> The most common balance is between 0K and 1K </li>\n",
    "    <li> I'm creating a new column \"balance range\" to easily segment leads by balance </li>\n",
    "    <li> Leads with balance higher than 1K and 10K have the highest conversion at 15% and 16% </li>"
   ]
  },
  {
   "cell_type": "code",
   "execution_count": 23,
   "id": "39f04475",
   "metadata": {},
   "outputs": [
    {
     "data": {
      "image/png": "[encoded data removed]",
      "text/plain": [
       "<Figure size 1440x360 with 1 Axes>"
      ]
     },
     "metadata": {
      "needs_background": "light"
     },
     "output_type": "display_data"
    }
   ],
   "source": [
    "# Exploring balance column \n",
    "mpl.rcParams['figure.figsize'] = (20,5)\n",
    "fig, ax = plt.subplots()\n",
    "ax.hist(df['balance'], bins=100)\n",
    "ax.set_xlabel('Average Yearly Balance (Euros)')\n",
    "ax.set_ylabel('Count')\n",
    "ax.set_title('Count by Average Yearly Balance (Euros)')\n",
    "plt.show()"
   ]
  },
  {
   "cell_type": "code",
   "execution_count": 24,
   "id": "32085587",
   "metadata": {},
   "outputs": [],
   "source": [
    "# Creating a new column \"balance range\" to segment leads easily by balance\n",
    "for index, row in df.iterrows() :\n",
    "    if df.loc[index, 'balance'] <= 0 :\n",
    "        df.loc[index, 'balance range'] = '<= 0'\n",
    "    elif df.loc[index, 'balance'] <= 1000 :\n",
    "        df.loc[index, 'balance range'] = '0 to 1K'\n",
    "    elif df.loc[index, 'balance'] <= 10000 :\n",
    "        df.loc[index, 'balance range'] = '1K to 10K'\n",
    "    else :\n",
    "        df.loc[index, 'balance range'] = '> 10K'"
   ]
  },
  {
   "cell_type": "code",
   "execution_count": 25,
   "id": "51fb8699",
   "metadata": {},
   "outputs": [
    {
     "data": {
      "image/png": "[encoded data removed]",
      "text/plain": [
       "<Figure size 1080x288 with 2 Axes>"
      ]
     },
     "metadata": {
      "needs_background": "light"
     },
     "output_type": "display_data"
    },
    {
     "name": "stdout",
     "output_type": "stream",
     "text": [
      "  balance range  conversion\n",
      "0         > 10K        0.16\n",
      "1     1K to 10K        0.15\n",
      "2       0 to 1K        0.11\n",
      "3          <= 0        0.07\n"
     ]
    }
   ],
   "source": [
    "# Exploring balance range\n",
    "exploring_chart('balance range',df,15,4)"
   ]
  },
  {
   "cell_type": "markdown",
   "id": "9c601ade",
   "metadata": {},
   "source": [
    "###  <span style=\"color:red\"> Insight N° 2: Leads without any loans are twice as likely to convert as those with loans. </span>"
   ]
  },
  {
   "cell_type": "markdown",
   "id": "98dffba9",
   "metadata": {},
   "source": [
    "### Combining Relevant Columns: Lead Profile\n",
    "<ul>\n",
    "    <li> Leads between 18 and 25 years old, including loan segmentation, increase conversion from 24% to 41% with a broad customer base </li>\n",
    "    <li> Leads between 26 and 30 years old, including loan segmentation, increase conversion from 14% to 25% with a broad customer base </li>\n",
    "    <li> Leads between 31 and 40 years old, including loan segmentation, increase conversion from 10% to 16% with a broad customer base </li>\n",
    "    <li> Leads between 41 and 60 years old, including loan segmentation, increase conversion from 9% to 14% with a broad customer base </li>\n",
    "    <li> Leads between 26 and 60 years old, need extra segmentation to increase conversion. In next steps, I'm going to work only with this age range to improve conversion </li>\n",
    "\n",
    "Note: In the next table, mean is conversion, count is numbers of leads, and sum is number of leads converted."
   ]
  },
  {
   "cell_type": "code",
   "execution_count": 26,
   "id": "e5fe985f",
   "metadata": {},
   "outputs": [
    {
     "data": {
      "text/html": [
       "<div>\n",
       "<style scoped>\n",
       "    .dataframe tbody tr th:only-of-type {\n",
       "        vertical-align: middle;\n",
       "    }\n",
       "\n",
       "    .dataframe tbody tr th {\n",
       "        vertical-align: top;\n",
       "    }\n",
       "\n",
       "    .dataframe thead th {\n",
       "        text-align: right;\n",
       "    }\n",
       "</style>\n",
       "<table border=\"1\" class=\"dataframe\">\n",
       "  <thead>\n",
       "    <tr style=\"text-align: right;\">\n",
       "      <th></th>\n",
       "      <th></th>\n",
       "      <th></th>\n",
       "      <th>mean</th>\n",
       "      <th>count</th>\n",
       "      <th>sum</th>\n",
       "    </tr>\n",
       "    <tr>\n",
       "      <th>age range</th>\n",
       "      <th>housing</th>\n",
       "      <th>loan</th>\n",
       "      <th></th>\n",
       "      <th></th>\n",
       "      <th></th>\n",
       "    </tr>\n",
       "  </thead>\n",
       "  <tbody>\n",
       "    <tr>\n",
       "      <th rowspan=\"4\" valign=\"top\">18 to 25</th>\n",
       "      <th rowspan=\"2\" valign=\"top\">no</th>\n",
       "      <th>no</th>\n",
       "      <td>0.408850</td>\n",
       "      <td>565</td>\n",
       "      <td>231.0</td>\n",
       "    </tr>\n",
       "    <tr>\n",
       "      <th>yes</th>\n",
       "      <td>0.256757</td>\n",
       "      <td>74</td>\n",
       "      <td>19.0</td>\n",
       "    </tr>\n",
       "    <tr>\n",
       "      <th rowspan=\"2\" valign=\"top\">yes</th>\n",
       "      <th>no</th>\n",
       "      <td>0.106419</td>\n",
       "      <td>592</td>\n",
       "      <td>63.0</td>\n",
       "    </tr>\n",
       "    <tr>\n",
       "      <th>yes</th>\n",
       "      <td>0.066667</td>\n",
       "      <td>105</td>\n",
       "      <td>7.0</td>\n",
       "    </tr>\n",
       "    <tr>\n",
       "      <th rowspan=\"4\" valign=\"top\">26 to 30</th>\n",
       "      <th>no</th>\n",
       "      <th>no</th>\n",
       "      <td>0.245003</td>\n",
       "      <td>1951</td>\n",
       "      <td>478.0</td>\n",
       "    </tr>\n",
       "    <tr>\n",
       "      <th>yes</th>\n",
       "      <th>no</th>\n",
       "      <td>0.096610</td>\n",
       "      <td>2743</td>\n",
       "      <td>265.0</td>\n",
       "    </tr>\n",
       "    <tr>\n",
       "      <th>no</th>\n",
       "      <th>yes</th>\n",
       "      <td>0.094872</td>\n",
       "      <td>390</td>\n",
       "      <td>37.0</td>\n",
       "    </tr>\n",
       "    <tr>\n",
       "      <th>yes</th>\n",
       "      <th>yes</th>\n",
       "      <td>0.073770</td>\n",
       "      <td>610</td>\n",
       "      <td>45.0</td>\n",
       "    </tr>\n",
       "    <tr>\n",
       "      <th rowspan=\"4\" valign=\"top\">31 to 40</th>\n",
       "      <th>no</th>\n",
       "      <th>no</th>\n",
       "      <td>0.157773</td>\n",
       "      <td>5622</td>\n",
       "      <td>887.0</td>\n",
       "    </tr>\n",
       "    <tr>\n",
       "      <th>yes</th>\n",
       "      <th>no</th>\n",
       "      <td>0.080960</td>\n",
       "      <td>9338</td>\n",
       "      <td>756.0</td>\n",
       "    </tr>\n",
       "    <tr>\n",
       "      <th>no</th>\n",
       "      <th>yes</th>\n",
       "      <td>0.074519</td>\n",
       "      <td>832</td>\n",
       "      <td>62.0</td>\n",
       "    </tr>\n",
       "    <tr>\n",
       "      <th>yes</th>\n",
       "      <th>yes</th>\n",
       "      <td>0.056464</td>\n",
       "      <td>1895</td>\n",
       "      <td>107.0</td>\n",
       "    </tr>\n",
       "    <tr>\n",
       "      <th rowspan=\"4\" valign=\"top\">41 to 60</th>\n",
       "      <th>no</th>\n",
       "      <th>no</th>\n",
       "      <td>0.135508</td>\n",
       "      <td>7970</td>\n",
       "      <td>1080.0</td>\n",
       "    </tr>\n",
       "    <tr>\n",
       "      <th>yes</th>\n",
       "      <th>no</th>\n",
       "      <td>0.068471</td>\n",
       "      <td>8018</td>\n",
       "      <td>549.0</td>\n",
       "    </tr>\n",
       "    <tr>\n",
       "      <th>no</th>\n",
       "      <th>yes</th>\n",
       "      <td>0.062381</td>\n",
       "      <td>1571</td>\n",
       "      <td>98.0</td>\n",
       "    </tr>\n",
       "    <tr>\n",
       "      <th>yes</th>\n",
       "      <th>yes</th>\n",
       "      <td>0.058958</td>\n",
       "      <td>1747</td>\n",
       "      <td>103.0</td>\n",
       "    </tr>\n",
       "  </tbody>\n",
       "</table>\n",
       "</div>"
      ],
      "text/plain": [
       "                            mean  count     sum\n",
       "age range housing loan                         \n",
       "18 to 25  no      no    0.408850    565   231.0\n",
       "                  yes   0.256757     74    19.0\n",
       "          yes     no    0.106419    592    63.0\n",
       "                  yes   0.066667    105     7.0\n",
       "26 to 30  no      no    0.245003   1951   478.0\n",
       "          yes     no    0.096610   2743   265.0\n",
       "          no      yes   0.094872    390    37.0\n",
       "          yes     yes   0.073770    610    45.0\n",
       "31 to 40  no      no    0.157773   5622   887.0\n",
       "          yes     no    0.080960   9338   756.0\n",
       "          no      yes   0.074519    832    62.0\n",
       "          yes     yes   0.056464   1895   107.0\n",
       "41 to 60  no      no    0.135508   7970  1080.0\n",
       "          yes     no    0.068471   8018   549.0\n",
       "          no      yes   0.062381   1571    98.0\n",
       "          yes     yes   0.058958   1747   103.0"
      ]
     },
     "execution_count": 26,
     "metadata": {},
     "output_type": "execute_result"
    }
   ],
   "source": [
    "df.groupby(['age range','housing','loan']).conversion.agg(['mean', 'count','sum']).\\\n",
    "sort_values(['age range','mean'], ascending=[True, False]).head(16)"
   ]
  },
  {
   "cell_type": "markdown",
   "id": "0b79940d",
   "metadata": {},
   "source": [
    "###  <span style=\"color:red\"> Insight N° 3: The second target will be young adults between 18 to 25 yeards old without personal loans and mortage, who have a conversion over 40%.  </span>"
   ]
  },
  {
   "cell_type": "markdown",
   "id": "eef4bfb0",
   "metadata": {},
   "source": [
    "### Exploring Conversion by Campaign Execution Data: Last Campaign\n",
    "<ul>\n",
    "    <li> This data has 5 columns:\n",
    "        <ul>\n",
    "            <li> Contact: Communication channel </li>\n",
    "            <li> Campaign: Number of contacts performed during this campaign and for this client (includes last contact) </li>\n",
    "            <li> Day: Last contact day of the month </li>\n",
    "            <li> Month: Last contact month of year  </li>\n",
    "            <li> Duration: Last contact duration, in seconds </li>"
   ]
  },
  {
   "cell_type": "markdown",
   "id": "5d28f066",
   "metadata": {},
   "source": [
    "####  Contact\n",
    "<ul>\n",
    "    <li> Conversions between leads who were contacted by cellular or telephone are quite similars </li>\n",
    "    <li> Null data was filled with \"unknown\" </li>\n",
    "    <li> Contact channel does not have strong relevance in the conversion </li>"
   ]
  },
  {
   "cell_type": "code",
   "execution_count": 27,
   "id": "a46c7927",
   "metadata": {},
   "outputs": [
    {
     "data": {
      "image/png": "[encoded data removed]",
      "text/plain": [
       "<Figure size 1080x216 with 2 Axes>"
      ]
     },
     "metadata": {
      "needs_background": "light"
     },
     "output_type": "display_data"
    },
    {
     "name": "stdout",
     "output_type": "stream",
     "text": [
      "     contact  conversion\n",
      "0   cellular        0.15\n",
      "1  telephone        0.13\n",
      "2    unknown        0.04\n"
     ]
    }
   ],
   "source": [
    "# Exploring contact column\n",
    "exploring_chart('contact',df,15,3)"
   ]
  },
  {
   "cell_type": "markdown",
   "id": "7dffb95c",
   "metadata": {},
   "source": [
    "####  Campaign\n",
    "<ul>\n",
    "    <li> Campaign represents the number of calls performed during this campaign for each lead </li>\n",
    "    <li> The number of calls does not reveal a clear trend, but it is more likely to get conversions in the first calls </li>\n",
    "    <li> It seems that the first call to a right lead easily converts </li>"
   ]
  },
  {
   "cell_type": "code",
   "execution_count": 28,
   "id": "b87a65dd",
   "metadata": {},
   "outputs": [
    {
     "data": {
      "image/png": "[encoded data removed]",
      "text/plain": [
       "<Figure size 1080x360 with 2 Axes>"
      ]
     },
     "metadata": {
      "needs_background": "light"
     },
     "output_type": "display_data"
    }
   ],
   "source": [
    "# Exploring campaign column\n",
    "axes = df.groupby(['campaign']).conversion.agg(['mean', 'count']).plot.bar(figsize=(15, 5), subplots=True, legend=False)\n",
    "axes[0].set_ylabel('Conversion')\n",
    "axes[1].set_ylabel('Count')\n",
    "plt.show()"
   ]
  },
  {
   "cell_type": "markdown",
   "id": "fb1f35a8",
   "metadata": {},
   "source": [
    "####  Days\n",
    "<ul>\n",
    "    <li> Day column doesn't show a clear correlation between conversion and a specific day of the month </li>\n",
    "    <li> However, days with a low number of calls have the highest conversion, and when the number of calls increases, the conversion drops </li>\n",
    "    <li> This could indicate that call quality has been sacrificed to increase the number of calls </li>"
   ]
  },
  {
   "cell_type": "code",
   "execution_count": 29,
   "id": "377566c0",
   "metadata": {},
   "outputs": [
    {
     "data": {
      "image/png": "[encoded data removed]",
      "text/plain": [
       "<Figure size 1080x360 with 2 Axes>"
      ]
     },
     "metadata": {
      "needs_background": "light"
     },
     "output_type": "display_data"
    }
   ],
   "source": [
    "# Exploring day column\n",
    "axes = df.groupby(['day']).conversion.agg(['mean', 'count']).plot.bar(figsize=(15, 5), subplots=True, legend=False)\n",
    "axes[0].set_ylabel('Conversion')\n",
    "axes[1].set_ylabel('Count')\n",
    "plt.show()"
   ]
  },
  {
   "cell_type": "markdown",
   "id": "4b1352ed",
   "metadata": {},
   "source": [
    "####  Month\n",
    "<ul>\n",
    "    <li> Month with high conversion are March, December, September, and October </li>\n",
    "    <li> However, coincidentally month with a low number of calls have the highest conversion, and when the number of calls increases, the conversion drops </li>\n",
    "    <li> This could indicate that call quality has been sacrificed to increase the number of calls </li>\n",
    "    <li> In order to validate if the month is correlated with conversion, next campaign should be in top conversions month with higher number of calls </li>  "
   ]
  },
  {
   "cell_type": "code",
   "execution_count": 30,
   "id": "3042bca1",
   "metadata": {},
   "outputs": [
    {
     "data": {
      "image/png": "[encoded data removed]",
      "text/plain": [
       "<Figure size 1080x360 with 2 Axes>"
      ]
     },
     "metadata": {
      "needs_background": "light"
     },
     "output_type": "display_data"
    },
    {
     "name": "stdout",
     "output_type": "stream",
     "text": [
      "   month  conversion\n",
      "0    mar        0.52\n",
      "1    dec        0.47\n",
      "2    sep        0.46\n",
      "3    oct        0.44\n",
      "4    apr        0.20\n",
      "5    feb        0.17\n",
      "6    aug        0.11\n",
      "7    jun        0.10\n",
      "8    nov        0.10\n",
      "9    jan        0.10\n",
      "10   jul        0.09\n",
      "11   may        0.07\n"
     ]
    }
   ],
   "source": [
    "# Exploring month column\n",
    "exploring_chart('month',df,15,5)"
   ]
  },
  {
   "cell_type": "markdown",
   "id": "52553409",
   "metadata": {},
   "source": [
    "####  Duration\n",
    "<ul>\n",
    "    <li> Long calls have greater conversion but this is more a result than a cause, when the lead is interested the call develops longer </li>\n",
    "    <li> However, agents should be motivated to take long calls as well </li>\n",
    "    <li> I'm creating a new column \"duration range\" in minutes to easily segment leads by duration </li>\n",
    "    <li> Calls with duration over 10 minutes have 48% of conversion </li>    "
   ]
  },
  {
   "cell_type": "code",
   "execution_count": 31,
   "id": "645c8e2b",
   "metadata": {},
   "outputs": [
    {
     "data": {
      "image/png": "[encoded data removed]",
      "text/plain": [
       "<Figure size 1080x360 with 1 Axes>"
      ]
     },
     "metadata": {
      "needs_background": "light"
     },
     "output_type": "display_data"
    }
   ],
   "source": [
    "# Exploring duration column \n",
    "mpl.rcParams['figure.figsize'] = (15,5)\n",
    "fig, ax = plt.subplots()\n",
    "ax.hist(df['duration'], bins=100)\n",
    "ax.set_ylabel('Count')\n",
    "ax.set_xlabel('Duration of last call is seconds')\n",
    "plt.show()"
   ]
  },
  {
   "cell_type": "code",
   "execution_count": 32,
   "id": "43ad373e",
   "metadata": {},
   "outputs": [],
   "source": [
    "# Creating a new column \"duration range\" to segment leads easily by balance\n",
    "for index, row in df.iterrows() :\n",
    "    if df.loc[index, 'duration'] <= 120 :\n",
    "        df.loc[index, 'duration range'] = '<= 2 min'\n",
    "    elif df.loc[index, 'duration'] <= 300 :\n",
    "        df.loc[index, 'duration range'] = '2 to 5 min'\n",
    "    elif df.loc[index, 'duration'] <= 600 :\n",
    "        df.loc[index, 'duration range'] = '5 to 10 min'\n",
    "    else :\n",
    "        df.loc[index, 'duration range'] = '> 10 min'"
   ]
  },
  {
   "cell_type": "code",
   "execution_count": 33,
   "id": "4fb9cbc4",
   "metadata": {},
   "outputs": [
    {
     "data": {
      "image/png": "[encoded data removed]",
      "text/plain": [
       "<Figure size 1152x360 with 2 Axes>"
      ]
     },
     "metadata": {
      "needs_background": "light"
     },
     "output_type": "display_data"
    },
    {
     "name": "stdout",
     "output_type": "stream",
     "text": [
      "  duration range  conversion\n",
      "0       > 10 min        0.48\n",
      "1    5 to 10 min        0.19\n",
      "2     2 to 5 min        0.09\n",
      "3       <= 2 min        0.02\n"
     ]
    }
   ],
   "source": [
    "# Exploring duration range column\n",
    "exploring_chart('duration range',df,16,5)"
   ]
  },
  {
   "cell_type": "markdown",
   "id": "dc81b782",
   "metadata": {},
   "source": [
    "####  Mix month and duration\n",
    "<ul>\n",
    "    <li> March, September, October, and December have conversion over 40% </li>\n",
    "    <li> Surprisingly, these months have a shorter average duration in seconds between 300 to 400, confirming in these months it is easier to convert</li>    "
   ]
  },
  {
   "cell_type": "code",
   "execution_count": 34,
   "id": "75c7f82f",
   "metadata": {},
   "outputs": [
    {
     "data": {
      "image/png": "[encoded data removed]",
      "text/plain": [
       "<Figure size 413.25x360 with 1 Axes>"
      ]
     },
     "metadata": {
      "needs_background": "light"
     },
     "output_type": "display_data"
    }
   ],
   "source": [
    "# Exploring impact of mix month and duration\n",
    "order_month=['jan','feb','mar','apr','may','jun','jul','aug','sep','oct','nov','dec']\n",
    "fig =sns.catplot(x='month', y='duration', data=df, kind=\"bar\", hue='y', order=order_month)\n",
    "fig.set_axis_labels('Month','Seconds')\n",
    "fig.set(title='Average call duration in seconds')\n",
    "plt.show()"
   ]
  },
  {
   "cell_type": "markdown",
   "id": "399ad1cb",
   "metadata": {},
   "source": [
    "### Exploring Conversion by Campaign Execution Data: Previous Campaign\n",
    "<ul>\n",
    "    <li> This data has 3 columns:\n",
    "        <ul>\n",
    "            <li> Previous: Number of contacts performed before this campaign and for each lead </li>\n",
    "            <li> Pdays: Number of days that passed by after the client was last contacted from a previous campaign (-1 means client was not previously contacted) </li>\n",
    "            <li> Poutcome: Outcome of the previous marketing campaign </li>"
   ]
  },
  {
   "cell_type": "markdown",
   "id": "f4060808",
   "metadata": {},
   "source": [
    "####  Previous\n",
    "<ul>\n",
    "    <li> Previous column represents the number of calls performed in the previous campaign for each lead </li>\n",
    "    <li> Leads with Zero previous calls are new leads in the last campaign, and represents 82% of total leads </li>\n",
    "    <li> New leads have the 9% of conversion vs previous leads who have 23% of conversion </li>"
   ]
  },
  {
   "cell_type": "code",
   "execution_count": 35,
   "id": "2d855bfb",
   "metadata": {},
   "outputs": [
    {
     "data": {
      "image/png": "[encoded data removed]",
      "text/plain": [
       "<Figure size 1080x360 with 2 Axes>"
      ]
     },
     "metadata": {
      "needs_background": "light"
     },
     "output_type": "display_data"
    }
   ],
   "source": [
    "# Exploring previous column\n",
    "axes = df.groupby(['previous']).conversion.agg(['mean', 'count']).plot.bar(figsize=(15, 5), subplots=True, legend=False)\n",
    "axes[0].set_ylabel('Conversion')\n",
    "axes[1].set_ylabel('Count')\n",
    "plt.show()"
   ]
  },
  {
   "cell_type": "code",
   "execution_count": 36,
   "id": "ad9fcf2e",
   "metadata": {},
   "outputs": [
    {
     "data": {
      "text/html": [
       "<div>\n",
       "<style scoped>\n",
       "    .dataframe tbody tr th:only-of-type {\n",
       "        vertical-align: middle;\n",
       "    }\n",
       "\n",
       "    .dataframe tbody tr th {\n",
       "        vertical-align: top;\n",
       "    }\n",
       "\n",
       "    .dataframe thead th {\n",
       "        text-align: right;\n",
       "    }\n",
       "</style>\n",
       "<table border=\"1\" class=\"dataframe\">\n",
       "  <thead>\n",
       "    <tr style=\"text-align: right;\">\n",
       "      <th></th>\n",
       "      <th>index</th>\n",
       "      <th>previous</th>\n",
       "    </tr>\n",
       "  </thead>\n",
       "  <tbody>\n",
       "    <tr>\n",
       "      <th>0</th>\n",
       "      <td>0</td>\n",
       "      <td>0.82</td>\n",
       "    </tr>\n",
       "  </tbody>\n",
       "</table>\n",
       "</div>"
      ],
      "text/plain": [
       "   index  previous\n",
       "0      0      0.82"
      ]
     },
     "execution_count": 36,
     "metadata": {},
     "output_type": "execute_result"
    }
   ],
   "source": [
    "# Calculating % of new leads \n",
    "round(df['previous'].value_counts(normalize=True).head(1).reset_index(),2)"
   ]
  },
  {
   "cell_type": "code",
   "execution_count": 37,
   "id": "995f92e9",
   "metadata": {},
   "outputs": [],
   "source": [
    "# Creating a new column \"Is new\" to segment leads easily by previous\n",
    "for index, row in df.iterrows() :\n",
    "    if df.loc[index, 'previous'] <= 0 :\n",
    "        df.loc[index, 'Is new'] = 'Yes'\n",
    "    else :\n",
    "        df.loc[index, 'Is new'] = 'No'"
   ]
  },
  {
   "cell_type": "code",
   "execution_count": 38,
   "id": "cdd8afa4",
   "metadata": {},
   "outputs": [
    {
     "data": {
      "image/png": "[encoded data removed]",
      "text/plain": [
       "<Figure size 1152x144 with 2 Axes>"
      ]
     },
     "metadata": {
      "needs_background": "light"
     },
     "output_type": "display_data"
    },
    {
     "name": "stdout",
     "output_type": "stream",
     "text": [
      "  Is new  conversion\n",
      "0     No        0.23\n",
      "1    Yes        0.09\n"
     ]
    }
   ],
   "source": [
    "# Exploring \"Is new\" column\n",
    "exploring_chart('Is new',df,16,2)"
   ]
  },
  {
   "cell_type": "markdown",
   "id": "1a6ccac6",
   "metadata": {},
   "source": [
    "####  Pdays\n",
    "<ul>\n",
    "    <li> Pdays represents the number of days that passed by after the lead was last contacted from a previous campaign </li>\n",
    "    <li> Leads with pdays equal to -1 are new leads in the last campaign, and represents 82% of total leads with 9% of conversion </li>\n",
    "    <li> Leads contacted before 200 days have 14% of conversion </li>\n",
    "    <li> Leads contacted after 200 days have 32% of conversion </li>"
   ]
  },
  {
   "cell_type": "code",
   "execution_count": 39,
   "id": "c2d4d8a8",
   "metadata": {},
   "outputs": [
    {
     "data": {
      "image/png": "[encoded data removed]",
      "text/plain": [
       "<Figure size 1080x288 with 1 Axes>"
      ]
     },
     "metadata": {
      "needs_background": "light"
     },
     "output_type": "display_data"
    }
   ],
   "source": [
    "# Exploring pdays column\n",
    "mpl.rcParams['figure.figsize'] = (15,4)\n",
    "fig, ax = plt.subplots()\n",
    "ax.hist(df['pdays'], bins=20)\n",
    "ax.set_ylabel('Count')\n",
    "ax.set_xlabel('pdays')\n",
    "plt.show()"
   ]
  },
  {
   "cell_type": "code",
   "execution_count": 40,
   "id": "2dd2b5eb",
   "metadata": {},
   "outputs": [],
   "source": [
    "# Creating a new column \"pdays range\" to segment leads easily by pdays\n",
    "for index, row in df.iterrows() :\n",
    "    if df.loc[index, 'pdays'] <= 0 :\n",
    "        df.loc[index, 'pdays range'] = 'New'\n",
    "    elif df.loc[index, 'pdays'] <= 200 :\n",
    "        df.loc[index, 'pdays range'] = '< 200 days'\n",
    "    else :\n",
    "        df.loc[index, 'pdays range'] = '> 200 days'"
   ]
  },
  {
   "cell_type": "code",
   "execution_count": 41,
   "id": "803243d9",
   "metadata": {},
   "outputs": [
    {
     "data": {
      "image/png": "[encoded data removed]",
      "text/plain": [
       "<Figure size 1152x216 with 2 Axes>"
      ]
     },
     "metadata": {
      "needs_background": "light"
     },
     "output_type": "display_data"
    },
    {
     "name": "stdout",
     "output_type": "stream",
     "text": [
      "  pdays range  conversion\n",
      "0  < 200 days        0.32\n",
      "1  > 200 days        0.14\n",
      "2         New        0.09\n"
     ]
    }
   ],
   "source": [
    "# Exploring pdays column\n",
    "exploring_chart('pdays range',df,16,3)"
   ]
  },
  {
   "cell_type": "markdown",
   "id": "75654711",
   "metadata": {},
   "source": [
    "####  Poutcome\n",
    "<ul>\n",
    "    <li> Poutcome represents the outcome of the previous marketing campaign </li>\n",
    "    <li> New leads was filled with \"unknown\" </li>\n",
    "    <li> Lead who suscribed to tern deposit in the previous campaign have 65% of conversion in the last campaign. They must be the first contacted in each campaign. </li>"
   ]
  },
  {
   "cell_type": "code",
   "execution_count": 42,
   "id": "2ccedba7",
   "metadata": {},
   "outputs": [
    {
     "data": {
      "image/png": "[encoded data removed]",
      "text/plain": [
       "<Figure size 1152x288 with 2 Axes>"
      ]
     },
     "metadata": {
      "needs_background": "light"
     },
     "output_type": "display_data"
    },
    {
     "name": "stdout",
     "output_type": "stream",
     "text": [
      "  poutcome  conversion\n",
      "0  success        0.65\n",
      "1    other        0.17\n",
      "2  failure        0.13\n",
      "3  unknown        0.09\n"
     ]
    }
   ],
   "source": [
    "# Exploring poutcome column\n",
    "exploring_chart('poutcome',df,16,4)"
   ]
  },
  {
   "cell_type": "markdown",
   "id": "5e13b964",
   "metadata": {},
   "source": [
    "### Slicing adults (25-60) segment\n",
    "\n",
    "<ul>\n",
    "    <li> Leads between 25 to 60 years old have an overall conversion at 10% </li>\n",
    "    <li> Applying extra segmentation by loans and contact channels increases conversion by up to 19%, \n",
    "reducing the cost per conversion almost 50% </li> </ul>\n",
    "Note: In the next table, mean is conversion, count is numbers of leads, and sum is number of leads converted.\n",
    "    "
   ]
  },
  {
   "cell_type": "code",
   "execution_count": 43,
   "id": "5c5fc2c5",
   "metadata": {},
   "outputs": [
    {
     "name": "stdout",
     "output_type": "stream",
     "text": [
      "10%\n"
     ]
    }
   ],
   "source": [
    "# Slicing adults in a new df call df_adults \n",
    "df_adults=df[(df['age']>25) & (df['age']<=60)]\n",
    "\n",
    "# Calculating overall df_adults conversion \n",
    "print(\"{:.0%}\".format(df_adults['conversion'].mean()))"
   ]
  },
  {
   "cell_type": "code",
   "execution_count": 44,
   "id": "3e8eec0b",
   "metadata": {},
   "outputs": [
    {
     "data": {
      "text/html": [
       "<div>\n",
       "<style scoped>\n",
       "    .dataframe tbody tr th:only-of-type {\n",
       "        vertical-align: middle;\n",
       "    }\n",
       "\n",
       "    .dataframe tbody tr th {\n",
       "        vertical-align: top;\n",
       "    }\n",
       "\n",
       "    .dataframe thead th {\n",
       "        text-align: right;\n",
       "    }\n",
       "</style>\n",
       "<table border=\"1\" class=\"dataframe\">\n",
       "  <thead>\n",
       "    <tr style=\"text-align: right;\">\n",
       "      <th></th>\n",
       "      <th></th>\n",
       "      <th></th>\n",
       "      <th>mean</th>\n",
       "      <th>count</th>\n",
       "      <th>sum</th>\n",
       "    </tr>\n",
       "    <tr>\n",
       "      <th>housing</th>\n",
       "      <th>loan</th>\n",
       "      <th>contact</th>\n",
       "      <th></th>\n",
       "      <th></th>\n",
       "      <th></th>\n",
       "    </tr>\n",
       "  </thead>\n",
       "  <tbody>\n",
       "    <tr>\n",
       "      <th rowspan=\"2\" valign=\"top\">no</th>\n",
       "      <th rowspan=\"2\" valign=\"top\">no</th>\n",
       "      <th>cellular</th>\n",
       "      <td>0.190829</td>\n",
       "      <td>11340</td>\n",
       "      <td>2164.0</td>\n",
       "    </tr>\n",
       "    <tr>\n",
       "      <th>telephone</th>\n",
       "      <td>0.134247</td>\n",
       "      <td>1095</td>\n",
       "      <td>147.0</td>\n",
       "    </tr>\n",
       "    <tr>\n",
       "      <th>yes</th>\n",
       "      <th>no</th>\n",
       "      <th>cellular</th>\n",
       "      <td>0.103692</td>\n",
       "      <td>11592</td>\n",
       "      <td>1202.0</td>\n",
       "    </tr>\n",
       "    <tr>\n",
       "      <th>no</th>\n",
       "      <th>yes</th>\n",
       "      <th>cellular</th>\n",
       "      <td>0.078337</td>\n",
       "      <td>2068</td>\n",
       "      <td>162.0</td>\n",
       "    </tr>\n",
       "    <tr>\n",
       "      <th rowspan=\"3\" valign=\"top\">yes</th>\n",
       "      <th rowspan=\"2\" valign=\"top\">yes</th>\n",
       "      <th>cellular</th>\n",
       "      <td>0.074655</td>\n",
       "      <td>2612</td>\n",
       "      <td>195.0</td>\n",
       "    </tr>\n",
       "    <tr>\n",
       "      <th>telephone</th>\n",
       "      <td>0.071823</td>\n",
       "      <td>181</td>\n",
       "      <td>13.0</td>\n",
       "    </tr>\n",
       "    <tr>\n",
       "      <th>no</th>\n",
       "      <th>telephone</th>\n",
       "      <td>0.064315</td>\n",
       "      <td>964</td>\n",
       "      <td>62.0</td>\n",
       "    </tr>\n",
       "    <tr>\n",
       "      <th rowspan=\"3\" valign=\"top\">no</th>\n",
       "      <th rowspan=\"2\" valign=\"top\">yes</th>\n",
       "      <th>telephone</th>\n",
       "      <td>0.058559</td>\n",
       "      <td>222</td>\n",
       "      <td>13.0</td>\n",
       "    </tr>\n",
       "    <tr>\n",
       "      <th>unknown</th>\n",
       "      <td>0.043738</td>\n",
       "      <td>503</td>\n",
       "      <td>22.0</td>\n",
       "    </tr>\n",
       "    <tr>\n",
       "      <th>no</th>\n",
       "      <th>unknown</th>\n",
       "      <td>0.043115</td>\n",
       "      <td>3108</td>\n",
       "      <td>134.0</td>\n",
       "    </tr>\n",
       "    <tr>\n",
       "      <th rowspan=\"2\" valign=\"top\">yes</th>\n",
       "      <th>no</th>\n",
       "      <th>unknown</th>\n",
       "      <td>0.040567</td>\n",
       "      <td>7543</td>\n",
       "      <td>306.0</td>\n",
       "    </tr>\n",
       "    <tr>\n",
       "      <th>yes</th>\n",
       "      <th>unknown</th>\n",
       "      <td>0.032214</td>\n",
       "      <td>1459</td>\n",
       "      <td>47.0</td>\n",
       "    </tr>\n",
       "  </tbody>\n",
       "</table>\n",
       "</div>"
      ],
      "text/plain": [
       "                            mean  count     sum\n",
       "housing loan contact                           \n",
       "no      no   cellular   0.190829  11340  2164.0\n",
       "             telephone  0.134247   1095   147.0\n",
       "yes     no   cellular   0.103692  11592  1202.0\n",
       "no      yes  cellular   0.078337   2068   162.0\n",
       "yes     yes  cellular   0.074655   2612   195.0\n",
       "             telephone  0.071823    181    13.0\n",
       "        no   telephone  0.064315    964    62.0\n",
       "no      yes  telephone  0.058559    222    13.0\n",
       "             unknown    0.043738    503    22.0\n",
       "        no   unknown    0.043115   3108   134.0\n",
       "yes     no   unknown    0.040567   7543   306.0\n",
       "        yes  unknown    0.032214   1459    47.0"
      ]
     },
     "execution_count": 44,
     "metadata": {},
     "output_type": "execute_result"
    }
   ],
   "source": [
    "# Exploring segmentation by loans and contact channel\n",
    "df_adults.groupby(['housing','loan','contact']).conversion.agg(['mean', 'count','sum']).\\\n",
    "sort_values('mean', ascending=False)"
   ]
  },
  {
   "cell_type": "code",
   "execution_count": 45,
   "id": "4e69ed9d",
   "metadata": {},
   "outputs": [
    {
     "data": {
      "image/png": "[encoded data removed]",
      "text/plain": [
       "<Figure size 1080x288 with 3 Axes>"
      ]
     },
     "metadata": {
      "needs_background": "light"
     },
     "output_type": "display_data"
    }
   ],
   "source": [
    "# Exploring segmentation by loans and contact channel\n",
    "df_adults.groupby(['housing','loan','contact']).conversion.agg(['mean', 'count','sum']).\\\n",
    "sort_values('mean', ascending=False).plot.bar(subplots=True)\n",
    "plt.show()"
   ]
  },
  {
   "cell_type": "markdown",
   "id": "fc640f39",
   "metadata": {},
   "source": [
    "###  <span style=\"color:red\"> Insight N° 4: The third target will be adults between 26 to 60 yeards old without personal loans and mortage, and they must be contacted by cellular to increase conversion by up to 19%, reducing the cost per conversion almost 50%.  </span>"
   ]
  },
  {
   "cell_type": "markdown",
   "id": "df219555",
   "metadata": {},
   "source": [
    "# 4. Conclusions\n",
    "<ul>\n",
    "    <li> Segmentation by age has a strong impact on conversions, and will be the first step in the targeting process. Leads over 60 years old will be our first target with conversion over 40%. </li>\n",
    "    <li> Leads without any loans are twice as likely to convert as those with loans.  </li>\n",
    "    <li> The second target will be young adults between 18 to 25 yeards old without personal loans and mortage, who have a conversion over 40%. </li>\n",
    "    <li> The third target will be adults between 26 to 60 yeards old without personal loans and mortage, and they must be contacted by cellular to increase conversion by up to 19%, reducing the cost per conversion almost 50% </li>"
   ]
  },
  {
   "cell_type": "markdown",
   "id": "b7be023a",
   "metadata": {},
   "source": [
    "# 5. Recommendations\n",
    "<ul>\n",
    "    <li> Month with high conversion are March, December, September, and October. However, coincidentally month with a low number of calls have the highest conversion, and when the number of calls increases, the conversion drops. In order to validate if the month is correlated with conversion, next campaign should be in top conversions month with higher number of calls </li>\n",
    "    <li> Also, identify what marketing activities were carried out in these months and get more information about the context in order to understand why these months have high convertions </li>"
   ]
  },
  {
   "cell_type": "code",
   "execution_count": null,
   "id": "0ee202e4",
   "metadata": {},
   "outputs": [],
   "source": []
  }
 ],
 "metadata": {
  "kernelspec": {
   "display_name": "Python 3 (ipykernel)",
   "language": "python",
   "name": "python3"
  },
  "language_info": {
   "codemirror_mode": {
    "name": "ipython",
    "version": 3
   },
   "file_extension": ".py",
   "mimetype": "text/x-python",
   "name": "python",
   "nbconvert_exporter": "python",
   "pygments_lexer": "ipython3",
   "version": "3.9.12"
  }
 },
 "nbformat": 4,
 "nbformat_minor": 5
}
